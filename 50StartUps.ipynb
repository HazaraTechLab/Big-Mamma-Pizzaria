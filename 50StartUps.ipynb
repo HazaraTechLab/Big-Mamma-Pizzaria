{
  "nbformat": 4,
  "nbformat_minor": 0,
  "metadata": {
    "colab": {
      "provenance": [],
      "include_colab_link": true
    },
    "kernelspec": {
      "name": "python3",
      "display_name": "Python 3"
    },
    "language_info": {
      "name": "python"
    }
  },
  "cells": [
    {
      "cell_type": "markdown",
      "metadata": {
        "id": "view-in-github",
        "colab_type": "text"
      },
      "source": [
        "<a href=\"https://colab.research.google.com/github/HazaraTechLab/Big-Mamma-Pizzaria/blob/master/50StartUps.ipynb\" target=\"_parent\"><img src=\"https://colab.research.google.com/assets/colab-badge.svg\" alt=\"Open In Colab\"/></a>"
      ]
    },
    {
      "cell_type": "markdown",
      "source": [
        "# Mandatory Assignment: Startups"
      ],
      "metadata": {
        "id": "gG3LBbMS4j3x"
      }
    },
    {
      "cell_type": "markdown",
      "source": [
        "### Domain description"
      ],
      "metadata": {
        "id": "LUwPMv5ft4M0"
      }
    },
    {
      "cell_type": "markdown",
      "source": [
        "JPM-Finance is an advisory financial company with a small network of rich clients who like to invest in newly started companies (so called startups), before the profit is public.\n",
        "\n",
        "For each company there are data given by the following features:\n",
        "*   State\n",
        "*   R&D Spend\n",
        "*   Marketing Spend\n",
        "*   Administration\n",
        "*   Profit which is the label\n",
        "\n",
        "Your job is to understand, explore and prepare the data, do a linear regression analysis to be used by JPM-Finance evaluating new startups profit based on the features. The estimate of profit together with a risk analysis of the business segment, will be the foundation for financial advices to clients.\n",
        "\n",
        "A preliminary interview with the smart boss (nick name JP) and his younger energetic coordinator, Mike, has revealed that:\n",
        "\n",
        "\n",
        "1.   A few companies have some data set to 0.0, this is for the moment acceptable, meaning you\n",
        "don’t need to change these numbers into mean values or drop the respective companies.\n",
        "Some small startups actually don’t have any administration costs!\n",
        "2.   The 'State' feature is a text attribute, and from previous study not very important, meaning one can drop this feature. Thus, all calculations using `OneHotEncoder` are superfluous. Just skip them for a start. Later if You like, You can play with the `OneHotEncoder`.\n",
        "3.  If the correlation matrix of the features only has values higher than 0.20 (lower than -0.20), it is a pretty bad idea to try to combine attributes, as this can blur the picture and make\n",
        "wrong weights to the features\n",
        "\n",
        "\n"
      ],
      "metadata": {
        "id": "LgSrnb4Ktvye"
      }
    },
    {
      "cell_type": "markdown",
      "source": [
        "### References"
      ],
      "metadata": {
        "id": "-qQf8dmB53XP"
      }
    },
    {
      "cell_type": "markdown",
      "source": [
        "It should not be necessary to find stuff by \"Googling\" or \"ChatGPT'ing\" for the purpose of finishing this assigment. Maybe for checking only.  \n",
        "\n",
        "Try to concentrate on the following references:\n",
        "*   Hands-On Machine Learning with Scikit-Learn, Keras, and TensorFlow: Concepts, Tools, and Techniques to Build Intelligent Systems, Aurélien Géron,\n",
        " 3rd edition, Ch. 1 & 2.\n",
        "*   Coding stuff for ch. 1: https://github.com/ageron/handson-ml3/blob/main/01_the_machine_learning_landscape.ipynb\n",
        "*   Coding stuff for ch. 2: https://github.com/ageron/handson-ml3/blob/main/02_end_to_end_machine_learning_project.ipynb\n",
        "*   Stuff from Moodle room. Especially, \"End-to-End Project Model\" sections.\n",
        "\n",
        "\n",
        "\n",
        "\n"
      ],
      "metadata": {
        "id": "Rz6W9bRa5vEI"
      }
    },
    {
      "cell_type": "markdown",
      "source": [
        "# Setting up Python Environment"
      ],
      "metadata": {
        "id": "ZZ6LR9TOAb5y"
      }
    },
    {
      "cell_type": "markdown",
      "source": [
        "Installing stuff"
      ],
      "metadata": {
        "id": "4-FkaLQT8hPv"
      }
    },
    {
      "cell_type": "markdown",
      "metadata": {
        "id": "s_N2k89r72nO"
      },
      "source": [
        "This project requires Python 3.7 or above:"
      ]
    },
    {
      "cell_type": "code",
      "execution_count": null,
      "metadata": {
        "id": "xhRlx8HP72nP"
      },
      "outputs": [],
      "source": [
        "import sys\n",
        "\n",
        "assert sys.version_info >= (3, 7)"
      ]
    },
    {
      "cell_type": "markdown",
      "metadata": {
        "id": "73Akme0I72nQ"
      },
      "source": [
        "It also requires Scikit-Learn ≥ 1.0.1:"
      ]
    },
    {
      "cell_type": "code",
      "execution_count": null,
      "metadata": {
        "id": "lhaI2FG-72nQ"
      },
      "outputs": [],
      "source": [
        "from packaging import version\n",
        "import sklearn\n",
        "\n",
        "assert version.parse(sklearn.__version__) >= version.parse(\"1.0.1\")"
      ]
    },
    {
      "cell_type": "markdown",
      "source": [
        "Import common libraries used with learning in Python"
      ],
      "metadata": {
        "id": "HTKlhojfFFC6"
      }
    },
    {
      "cell_type": "code",
      "source": [
        "import pandas as pd\n",
        "from pathlib import Path"
      ],
      "metadata": {
        "id": "eVpeh5oMPkxj"
      },
      "execution_count": null,
      "outputs": []
    },
    {
      "cell_type": "code",
      "source": [
        "import numpy as np"
      ],
      "metadata": {
        "id": "gYKJF0e1w2v6"
      },
      "execution_count": null,
      "outputs": []
    },
    {
      "cell_type": "markdown",
      "source": [
        "#Step 1: Look at the big picture and frame the problem"
      ],
      "metadata": {
        "id": "v-9a7LhTabe4"
      }
    },
    {
      "cell_type": "markdown",
      "source": [
        "**Questions & Tasks**\n",
        "1. Define the objective in business terms. Action: Analyze what business purpose your solution is going to serve.\n",
        "To be documented – e.g. in your notebook.\n",
        "2. How shall your solution be used?\n",
        "Action: That defining one or more user stories for the solution.\n",
        "To be documented – e.g. in your notebook.\n",
        "3. What are the current solutions/workarounds (if any)?\n",
        "Action: This is N/A here as nothing is known. Otherwise useful for establishing a baseline\n",
        "to measure the performance of the intended system against.\n",
        "Nothing to be documented.\n",
        "4. How should you frame this problem (supervised/unsupervised, online/offline, etc.)?\n",
        "Action: You may re-address chapter 1 for these concepts.\n",
        "To be documented – e.g. in your notebook.\n",
        "5. How should performance be measured?\n",
        "Action: First of all select at measure that goes with the way you framed the problem –\n",
        "RMSE, Confusion matrix or something else.\n",
        "To be documented – e.g. in your notebook.\n",
        "6. Is the performance measure aligned with the business objective?\n",
        "Action: Discuss whether your performance measure makes sense regarding your business\n",
        "objective.\n",
        "To be documented – e.g. in your notebook.\n",
        "7. What would be the minimum performance needed to reach the business objective?\n",
        "Action: N/A as we have got no baseline regarding the current performance.\n",
        "Nothing to be documented.\n",
        "8. What are comparable problems? Can you reuse experience?\n",
        "Action: Reuse all the stuff and tools you know – especially, what you learned from chapter 2\n",
        "9. Is human expertise available?\n",
        "Action: N/A as we have no domain experts available. Otherwise recommendable.\n",
        "Nothing to be documented.\n",
        "10. How would you solve the problem manually?\n",
        "Action: N/A as we have got no idea about it?\n",
        "Nothing to be documented.\n",
        "11. List the assumptions you (or others have made so far)\n",
        "Action: Figure out what assumptions you actually made.\n",
        "To be documented – e.g. in your notebook.\n",
        "Note: Some assumptions have already been made in the case description. Which?\n",
        "12. Verify assumptions if possible\n",
        "Action: N/A because you have got no time for this. Otherwise, you should indeed do this.\n",
        "Nothing to be documented.\n"
      ],
      "metadata": {
        "id": "yYsH_QZcPDYG"
      }
    },
    {
      "cell_type": "markdown",
      "source": [
        "#Step 2: Get the data"
      ],
      "metadata": {
        "id": "LYEDWFK2vXq3"
      }
    },
    {
      "cell_type": "markdown",
      "source": [
        "The data is the 50_Startups.csv file, which is available in GitHub: https://raw.githubusercontent.com/jpandersen61/Machine-Learning/refs/heads/main/50_Startups.csv\n",
        "\n",
        "**Questions & Tasks:**\n",
        "1. List the data you need and how much you need.\n",
        "Action: N/A in this task. Otherwise, it is such a good idea to your need for data before going\n",
        "further. Nothing to be documented.\n",
        "2. Find and document where you can get that data.\n",
        "Action: N/A in this task because the data set is given. Nothing to be documented.\n",
        "3. Check out how much space it requires.\n",
        "Action: Probably none as the dataset is super small\n",
        "4. Check legal obligations, and get authorization if necessary.\n",
        "Action: N/A here because no legal matters are involved. Otherwise, GDPR issues,\n",
        "ownerships rights etc. should be considered. Nothing to be documented.\n",
        "5. Get access authorizations.\n",
        "Action: Nothing to e done here. Otherwise, this may be a tedious and bureaucratic procedure that has to be considered in the planning.\n",
        "6. Create a workspace (with enough storage space).\n",
        "Action: That is establishing a notebook at your PC (e.g. Jupyter) or in the cloud (e.g. Colab) for the program and data set.\n",
        "7. Get the data.\n",
        "Action: Establish a data fetch routine in your notebook. Code is to be established in your notebook, if not already done.\n",
        "8. Convert the data to a format you can easily manipulate (without changing the data itself).\n",
        "Action: Common conversions between datatypes needed as you go.\n",
        "Code is to be established in your notebook. Goes along with your coding.\n",
        "9. Ensure sensitive information is deleted or protected (e.g., anonymized).\n",
        "Action: N/A as there is none. Otherwise, legal obligations should always be checked as aminimum. Note: Data may also be considered sensitive for other reasons. Nothing to be documented.\n",
        "10. Check the size and type of data (time series, sample, geographical, etc.).\n",
        "Action: Code is to be established in your notebook like section ‘Take a Quick Look at the Data Structure’ in notebook for chapter 2.\n",
        "11. Create a test set, put it aside, and never look at it (no data snooping!).\n",
        "A problem here is that the data set is small -> Use stratification.\n",
        "Action: Make stratified test and learning sets (1 fold).\n",
        "Code is to be established in your notebook. Find your stuff in section ‘Create a Test Set’ in notebook for chapter 2"
      ],
      "metadata": {
        "id": "Vqz2AixTR9SW"
      }
    },
    {
      "cell_type": "markdown",
      "source": [
        "###Getting the data"
      ],
      "metadata": {
        "id": "cp-wNuahG7ZF"
      }
    },
    {
      "cell_type": "code",
      "source": [
        "#Importing the dataset\n",
        "datafile=\"https://raw.githubusercontent.com/jpandersen61/Machine-Learning/refs/heads/main/50_Startups.csv\"\n",
        "dataset = pd.read_csv(datafile)\n",
        "\n"
      ],
      "metadata": {
        "id": "BXjWXlrdPrdJ"
      },
      "execution_count": null,
      "outputs": []
    },
    {
      "cell_type": "markdown",
      "source": [
        "#Step 3. Explore the data"
      ],
      "metadata": {
        "id": "ugLcMRj8WggJ"
      }
    },
    {
      "cell_type": "markdown",
      "source": [
        "You are now ready to make a notebook (in Jupyter or Colab) for exploring the data. Remember your experience from the investigation of “Housing” in Chapter 2.\n",
        "\n",
        "**Questions & Tasks**\n",
        "1. Create a copy of the data for exploration (sampling it down to a manageable size if necessary). Action: Easy action, no sampling needed.\n",
        "2. Create a notebook to keep a record of your data exploration.\n",
        "Action: You have probably already done that. A copy and paste and changes of the chapter 2 housing notebook is not illegal.\n",
        "3. Study each attribute and its characteristics. Action: Get inspired by the notebook for chapter 2 Code is to be established. Find your stuff in section ‘Take a Quick Look at the Data Structure’ in notebook for chapter 2. Consider the following attribute characteristics:\n",
        "*   Name\n",
        "*   Type (categorical, int/float, bounded/unbounded, text, structured, etc.).\n",
        "*   % of missing values.\n",
        "*   N/A. Noisiness and type of noise (stochastic, outliers, rounding errors, etc.)\n",
        "*   Usefulness for the task.\n",
        "*   Type of distribution (Gaussian, uniform, logarithmic, etc.). Check with the selected model if OK.\n",
        "*   Do a histogram for each attribute.\n",
        "\n",
        "4. For supervised learning tasks, identify the target attribute(s); i.e. the label(s). Action: Identify target attributes, if any.\n",
        "To be documented – e.g. in the your notebook.\n",
        "5. Discover and visualize the data by scatter plots for each numerical attribute. Action: N/A because it is not considered relevant here. Nothing to be documented\n",
        "6. Study the correlations between attributes.\n",
        "Action: Make also a scatter matrix plot together with the correlation results.\n",
        "Code is to be established in your notebook like section ‘Looking for Correlations’ in notebook for chapter 2\n",
        "7. Study how you would solve the problem manually. Action: N/A. Nothing to be documented.\n",
        "8. Experiment with attribute combinations.\n",
        "Action: Code is to be established in your notebook like in section ‘Experimenting with Attribute Combinations’ in notebook for chapter 2.\n",
        "9. Identify a new promising attribute you may want to apply, if any.\n",
        "Action: Identify those with a strong correlation to the target attribute.\n",
        "To be documented – e.g. in your notebook.\n",
        "10. Identify extra data that would be useful (go back to “Get the Data”).\n",
        "Action: N/A as were are limited to ‘50 Start-ups’ dataset\n",
        "However, you may document any suggestions for extra data features – e.g. in your notebook."
      ],
      "metadata": {
        "id": "AjRlIU1gW1yd"
      }
    },
    {
      "cell_type": "markdown",
      "source": [
        "#Step 4. Prepare the data"
      ],
      "metadata": {
        "id": "Rpizj6Q5EIWR"
      }
    },
    {
      "cell_type": "markdown",
      "source": [
        "**Notes:**\n",
        "*   Work on copies of the data (keep the original dataset intact).\n",
        "*   Write functions for all data transformations you apply, for five reasons:\n",
        "1.   So you can easily prepare the data the next time you get a fresh dataset\n",
        "2.   So you can apply these transformations in future projects\n",
        "3.   To clean and prepare the test set\n",
        "4.   To clean and prepare new data instances once your solution is live\n",
        "5.   To make it easy to treat your preparation choices as hyperparameters"
      ],
      "metadata": {
        "id": "IP1xBMc8XfVE"
      }
    },
    {
      "cell_type": "markdown",
      "source": [
        "**Questions & Tasks**\n",
        "1. Data cleaning: Action: N/A because no values are and no evident outliers detected. Nothing to be documented. Otherwise consider:\n",
        "*   Fix or remove outliers (optional).\n",
        "*   Fill in missing values (e.g., with zero, not mean or median…) or drop their rows (or columns).\n",
        "\n",
        "2. Feature selection: Drop the attributes that provide no useful information for the task. Action: Code is to be established in your notebook, that is find out how to apply the drop method.\n",
        "\n",
        "3. Feature engineering, where appropriate: Action: To be skipped. Nothing to be documented. Otherwise consider:\n",
        "*  Discretize continuous features.\n",
        "*  Decompose features (e.g., categorical, date/time, etc.).\n",
        "*  Add promising transformations of features (e.g., log(x), sqrt(x), etc.).\n",
        "*  Aggregate features into promising new features.\n",
        "\n",
        "4. Handle text and categorical attributes using “import OneHotEncoder”.\n",
        "Action: Find out what to do with the ‘State’ attribute.\n",
        "Code is to be established in your notebook\n",
        "Note what is stated in the case description!\n",
        "\n",
        "5. Feature scaling: Standardize or normalize features, if necessary.\n",
        "Action: Include the StandardScaler in the pipeline and observe if it does any difference when applying the LinearRegression algorithm.\n",
        "Code is to be established in your notebook e.g. find out how to apply the make_pipeline as done in section ‘Training and Evaluating on the Training Set’ in the notebook for chapter 2"
      ],
      "metadata": {
        "id": "-ak2tlb8XnI8"
      }
    },
    {
      "cell_type": "code",
      "source": [
        "\n",
        "import pandas as pd\n",
        "import numpy as np\n",
        "from sklearn.preprocessing import OneHotEncoder, StandardScaler\n",
        "from sklearn.model_selection import train_test_split\n",
        "from sklearn.linear_model import LinearRegression\n",
        "from sklearn.pipeline import make_pipeline\n"
      ],
      "metadata": {
        "id": "7D2sPveECi7U"
      },
      "execution_count": 47,
      "outputs": []
    },
    {
      "cell_type": "code",
      "source": [
        "# Hent data fra GitHub\n",
        "url = \"https://raw.githubusercontent.com/jpandersen61/Machine-Learning/refs/heads/main/50_Startups.csv\"\n",
        "original_df = pd.read_csv(url)\n",
        "\n",
        "# Lav en kopi (arbejd aldrig direkte på originalen)\n",
        "df = original_df.copy()\n",
        "df.head()\n"
      ],
      "metadata": {
        "id": "dbpbKtHJCznH",
        "outputId": "34a5448d-a1b3-466a-8a99-7df186b581fb",
        "colab": {
          "base_uri": "https://localhost:8080/",
          "height": 206
        }
      },
      "execution_count": 37,
      "outputs": [
        {
          "output_type": "execute_result",
          "data": {
            "text/plain": [
              "   R&D Spend  Administration  Marketing Spend       State     Profit\n",
              "0  165349.20       136897.80        471784.10    New York  192261.83\n",
              "1  162597.70       151377.59        443898.53  California  191792.06\n",
              "2  153441.51       101145.55        407934.54     Florida  191050.39\n",
              "3  144372.41       118671.85        383199.62    New York  182901.99\n",
              "4  142107.34        91391.77        366168.42     Florida  166187.94"
            ],
            "text/html": [
              "\n",
              "  <div id=\"df-1f6a9a76-cafb-43cf-a069-6b536bf1c182\" class=\"colab-df-container\">\n",
              "    <div>\n",
              "<style scoped>\n",
              "    .dataframe tbody tr th:only-of-type {\n",
              "        vertical-align: middle;\n",
              "    }\n",
              "\n",
              "    .dataframe tbody tr th {\n",
              "        vertical-align: top;\n",
              "    }\n",
              "\n",
              "    .dataframe thead th {\n",
              "        text-align: right;\n",
              "    }\n",
              "</style>\n",
              "<table border=\"1\" class=\"dataframe\">\n",
              "  <thead>\n",
              "    <tr style=\"text-align: right;\">\n",
              "      <th></th>\n",
              "      <th>R&amp;D Spend</th>\n",
              "      <th>Administration</th>\n",
              "      <th>Marketing Spend</th>\n",
              "      <th>State</th>\n",
              "      <th>Profit</th>\n",
              "    </tr>\n",
              "  </thead>\n",
              "  <tbody>\n",
              "    <tr>\n",
              "      <th>0</th>\n",
              "      <td>165349.20</td>\n",
              "      <td>136897.80</td>\n",
              "      <td>471784.10</td>\n",
              "      <td>New York</td>\n",
              "      <td>192261.83</td>\n",
              "    </tr>\n",
              "    <tr>\n",
              "      <th>1</th>\n",
              "      <td>162597.70</td>\n",
              "      <td>151377.59</td>\n",
              "      <td>443898.53</td>\n",
              "      <td>California</td>\n",
              "      <td>191792.06</td>\n",
              "    </tr>\n",
              "    <tr>\n",
              "      <th>2</th>\n",
              "      <td>153441.51</td>\n",
              "      <td>101145.55</td>\n",
              "      <td>407934.54</td>\n",
              "      <td>Florida</td>\n",
              "      <td>191050.39</td>\n",
              "    </tr>\n",
              "    <tr>\n",
              "      <th>3</th>\n",
              "      <td>144372.41</td>\n",
              "      <td>118671.85</td>\n",
              "      <td>383199.62</td>\n",
              "      <td>New York</td>\n",
              "      <td>182901.99</td>\n",
              "    </tr>\n",
              "    <tr>\n",
              "      <th>4</th>\n",
              "      <td>142107.34</td>\n",
              "      <td>91391.77</td>\n",
              "      <td>366168.42</td>\n",
              "      <td>Florida</td>\n",
              "      <td>166187.94</td>\n",
              "    </tr>\n",
              "  </tbody>\n",
              "</table>\n",
              "</div>\n",
              "    <div class=\"colab-df-buttons\">\n",
              "\n",
              "  <div class=\"colab-df-container\">\n",
              "    <button class=\"colab-df-convert\" onclick=\"convertToInteractive('df-1f6a9a76-cafb-43cf-a069-6b536bf1c182')\"\n",
              "            title=\"Convert this dataframe to an interactive table.\"\n",
              "            style=\"display:none;\">\n",
              "\n",
              "  <svg xmlns=\"http://www.w3.org/2000/svg\" height=\"24px\" viewBox=\"0 -960 960 960\">\n",
              "    <path d=\"M120-120v-720h720v720H120Zm60-500h600v-160H180v160Zm220 220h160v-160H400v160Zm0 220h160v-160H400v160ZM180-400h160v-160H180v160Zm440 0h160v-160H620v160ZM180-180h160v-160H180v160Zm440 0h160v-160H620v160Z\"/>\n",
              "  </svg>\n",
              "    </button>\n",
              "\n",
              "  <style>\n",
              "    .colab-df-container {\n",
              "      display:flex;\n",
              "      gap: 12px;\n",
              "    }\n",
              "\n",
              "    .colab-df-convert {\n",
              "      background-color: #E8F0FE;\n",
              "      border: none;\n",
              "      border-radius: 50%;\n",
              "      cursor: pointer;\n",
              "      display: none;\n",
              "      fill: #1967D2;\n",
              "      height: 32px;\n",
              "      padding: 0 0 0 0;\n",
              "      width: 32px;\n",
              "    }\n",
              "\n",
              "    .colab-df-convert:hover {\n",
              "      background-color: #E2EBFA;\n",
              "      box-shadow: 0px 1px 2px rgba(60, 64, 67, 0.3), 0px 1px 3px 1px rgba(60, 64, 67, 0.15);\n",
              "      fill: #174EA6;\n",
              "    }\n",
              "\n",
              "    .colab-df-buttons div {\n",
              "      margin-bottom: 4px;\n",
              "    }\n",
              "\n",
              "    [theme=dark] .colab-df-convert {\n",
              "      background-color: #3B4455;\n",
              "      fill: #D2E3FC;\n",
              "    }\n",
              "\n",
              "    [theme=dark] .colab-df-convert:hover {\n",
              "      background-color: #434B5C;\n",
              "      box-shadow: 0px 1px 3px 1px rgba(0, 0, 0, 0.15);\n",
              "      filter: drop-shadow(0px 1px 2px rgba(0, 0, 0, 0.3));\n",
              "      fill: #FFFFFF;\n",
              "    }\n",
              "  </style>\n",
              "\n",
              "    <script>\n",
              "      const buttonEl =\n",
              "        document.querySelector('#df-1f6a9a76-cafb-43cf-a069-6b536bf1c182 button.colab-df-convert');\n",
              "      buttonEl.style.display =\n",
              "        google.colab.kernel.accessAllowed ? 'block' : 'none';\n",
              "\n",
              "      async function convertToInteractive(key) {\n",
              "        const element = document.querySelector('#df-1f6a9a76-cafb-43cf-a069-6b536bf1c182');\n",
              "        const dataTable =\n",
              "          await google.colab.kernel.invokeFunction('convertToInteractive',\n",
              "                                                    [key], {});\n",
              "        if (!dataTable) return;\n",
              "\n",
              "        const docLinkHtml = 'Like what you see? Visit the ' +\n",
              "          '<a target=\"_blank\" href=https://colab.research.google.com/notebooks/data_table.ipynb>data table notebook</a>'\n",
              "          + ' to learn more about interactive tables.';\n",
              "        element.innerHTML = '';\n",
              "        dataTable['output_type'] = 'display_data';\n",
              "        await google.colab.output.renderOutput(dataTable, element);\n",
              "        const docLink = document.createElement('div');\n",
              "        docLink.innerHTML = docLinkHtml;\n",
              "        element.appendChild(docLink);\n",
              "      }\n",
              "    </script>\n",
              "  </div>\n",
              "\n",
              "\n",
              "    <div id=\"df-95d7b43e-28ee-4693-8920-612f2ed9cbee\">\n",
              "      <button class=\"colab-df-quickchart\" onclick=\"quickchart('df-95d7b43e-28ee-4693-8920-612f2ed9cbee')\"\n",
              "                title=\"Suggest charts\"\n",
              "                style=\"display:none;\">\n",
              "\n",
              "<svg xmlns=\"http://www.w3.org/2000/svg\" height=\"24px\"viewBox=\"0 0 24 24\"\n",
              "     width=\"24px\">\n",
              "    <g>\n",
              "        <path d=\"M19 3H5c-1.1 0-2 .9-2 2v14c0 1.1.9 2 2 2h14c1.1 0 2-.9 2-2V5c0-1.1-.9-2-2-2zM9 17H7v-7h2v7zm4 0h-2V7h2v10zm4 0h-2v-4h2v4z\"/>\n",
              "    </g>\n",
              "</svg>\n",
              "      </button>\n",
              "\n",
              "<style>\n",
              "  .colab-df-quickchart {\n",
              "      --bg-color: #E8F0FE;\n",
              "      --fill-color: #1967D2;\n",
              "      --hover-bg-color: #E2EBFA;\n",
              "      --hover-fill-color: #174EA6;\n",
              "      --disabled-fill-color: #AAA;\n",
              "      --disabled-bg-color: #DDD;\n",
              "  }\n",
              "\n",
              "  [theme=dark] .colab-df-quickchart {\n",
              "      --bg-color: #3B4455;\n",
              "      --fill-color: #D2E3FC;\n",
              "      --hover-bg-color: #434B5C;\n",
              "      --hover-fill-color: #FFFFFF;\n",
              "      --disabled-bg-color: #3B4455;\n",
              "      --disabled-fill-color: #666;\n",
              "  }\n",
              "\n",
              "  .colab-df-quickchart {\n",
              "    background-color: var(--bg-color);\n",
              "    border: none;\n",
              "    border-radius: 50%;\n",
              "    cursor: pointer;\n",
              "    display: none;\n",
              "    fill: var(--fill-color);\n",
              "    height: 32px;\n",
              "    padding: 0;\n",
              "    width: 32px;\n",
              "  }\n",
              "\n",
              "  .colab-df-quickchart:hover {\n",
              "    background-color: var(--hover-bg-color);\n",
              "    box-shadow: 0 1px 2px rgba(60, 64, 67, 0.3), 0 1px 3px 1px rgba(60, 64, 67, 0.15);\n",
              "    fill: var(--button-hover-fill-color);\n",
              "  }\n",
              "\n",
              "  .colab-df-quickchart-complete:disabled,\n",
              "  .colab-df-quickchart-complete:disabled:hover {\n",
              "    background-color: var(--disabled-bg-color);\n",
              "    fill: var(--disabled-fill-color);\n",
              "    box-shadow: none;\n",
              "  }\n",
              "\n",
              "  .colab-df-spinner {\n",
              "    border: 2px solid var(--fill-color);\n",
              "    border-color: transparent;\n",
              "    border-bottom-color: var(--fill-color);\n",
              "    animation:\n",
              "      spin 1s steps(1) infinite;\n",
              "  }\n",
              "\n",
              "  @keyframes spin {\n",
              "    0% {\n",
              "      border-color: transparent;\n",
              "      border-bottom-color: var(--fill-color);\n",
              "      border-left-color: var(--fill-color);\n",
              "    }\n",
              "    20% {\n",
              "      border-color: transparent;\n",
              "      border-left-color: var(--fill-color);\n",
              "      border-top-color: var(--fill-color);\n",
              "    }\n",
              "    30% {\n",
              "      border-color: transparent;\n",
              "      border-left-color: var(--fill-color);\n",
              "      border-top-color: var(--fill-color);\n",
              "      border-right-color: var(--fill-color);\n",
              "    }\n",
              "    40% {\n",
              "      border-color: transparent;\n",
              "      border-right-color: var(--fill-color);\n",
              "      border-top-color: var(--fill-color);\n",
              "    }\n",
              "    60% {\n",
              "      border-color: transparent;\n",
              "      border-right-color: var(--fill-color);\n",
              "    }\n",
              "    80% {\n",
              "      border-color: transparent;\n",
              "      border-right-color: var(--fill-color);\n",
              "      border-bottom-color: var(--fill-color);\n",
              "    }\n",
              "    90% {\n",
              "      border-color: transparent;\n",
              "      border-bottom-color: var(--fill-color);\n",
              "    }\n",
              "  }\n",
              "</style>\n",
              "\n",
              "      <script>\n",
              "        async function quickchart(key) {\n",
              "          const quickchartButtonEl =\n",
              "            document.querySelector('#' + key + ' button');\n",
              "          quickchartButtonEl.disabled = true;  // To prevent multiple clicks.\n",
              "          quickchartButtonEl.classList.add('colab-df-spinner');\n",
              "          try {\n",
              "            const charts = await google.colab.kernel.invokeFunction(\n",
              "                'suggestCharts', [key], {});\n",
              "          } catch (error) {\n",
              "            console.error('Error during call to suggestCharts:', error);\n",
              "          }\n",
              "          quickchartButtonEl.classList.remove('colab-df-spinner');\n",
              "          quickchartButtonEl.classList.add('colab-df-quickchart-complete');\n",
              "        }\n",
              "        (() => {\n",
              "          let quickchartButtonEl =\n",
              "            document.querySelector('#df-95d7b43e-28ee-4693-8920-612f2ed9cbee button');\n",
              "          quickchartButtonEl.style.display =\n",
              "            google.colab.kernel.accessAllowed ? 'block' : 'none';\n",
              "        })();\n",
              "      </script>\n",
              "    </div>\n",
              "\n",
              "    </div>\n",
              "  </div>\n"
            ],
            "application/vnd.google.colaboratory.intrinsic+json": {
              "type": "dataframe",
              "variable_name": "df",
              "summary": "{\n  \"name\": \"df\",\n  \"rows\": 50,\n  \"fields\": [\n    {\n      \"column\": \"R&D Spend\",\n      \"properties\": {\n        \"dtype\": \"number\",\n        \"std\": 45902.25648230753,\n        \"min\": 0.0,\n        \"max\": 165349.2,\n        \"num_unique_values\": 49,\n        \"samples\": [\n          91992.39,\n          1000.23,\n          0.0\n        ],\n        \"semantic_type\": \"\",\n        \"description\": \"\"\n      }\n    },\n    {\n      \"column\": \"Administration\",\n      \"properties\": {\n        \"dtype\": \"number\",\n        \"std\": 28017.802755488683,\n        \"min\": 51283.14,\n        \"max\": 182645.56,\n        \"num_unique_values\": 50,\n        \"samples\": [\n          135495.07,\n          82982.09,\n          115641.28\n        ],\n        \"semantic_type\": \"\",\n        \"description\": \"\"\n      }\n    },\n    {\n      \"column\": \"Marketing Spend\",\n      \"properties\": {\n        \"dtype\": \"number\",\n        \"std\": 122290.31072584528,\n        \"min\": 0.0,\n        \"max\": 471784.1,\n        \"num_unique_values\": 48,\n        \"samples\": [\n          353183.81,\n          172795.67,\n          134050.07\n        ],\n        \"semantic_type\": \"\",\n        \"description\": \"\"\n      }\n    },\n    {\n      \"column\": \"State\",\n      \"properties\": {\n        \"dtype\": \"category\",\n        \"num_unique_values\": 3,\n        \"samples\": [\n          \"New York\",\n          \"California\",\n          \"Florida\"\n        ],\n        \"semantic_type\": \"\",\n        \"description\": \"\"\n      }\n    },\n    {\n      \"column\": \"Profit\",\n      \"properties\": {\n        \"dtype\": \"number\",\n        \"std\": 40306.18033765055,\n        \"min\": 14681.4,\n        \"max\": 192261.83,\n        \"num_unique_values\": 50,\n        \"samples\": [\n          134307.35,\n          81005.76,\n          99937.59\n        ],\n        \"semantic_type\": \"\",\n        \"description\": \"\"\n      }\n    }\n  ]\n}"
            }
          },
          "metadata": {},
          "execution_count": 37
        }
      ]
    },
    {
      "cell_type": "code",
      "source": [
        "def clean_data(data):\n",
        "    \"\"\"Renser data: tjek for manglende værdier og outliers.\"\"\"\n",
        "    print(\"Missing values per column:\")\n",
        "    print(data.isnull().sum())\n",
        "    print(\"\\nBasic statistics:\")\n",
        "    print(data.describe())\n",
        "    return data\n",
        "\n",
        "df = clean_data(df)\n"
      ],
      "metadata": {
        "id": "b1mR9C43C5Tj",
        "outputId": "79b3f0c7-69df-4b2a-d30b-37d3efdbaddf",
        "colab": {
          "base_uri": "https://localhost:8080/"
        }
      },
      "execution_count": 38,
      "outputs": [
        {
          "output_type": "stream",
          "name": "stdout",
          "text": [
            "Missing values per column:\n",
            "R&D Spend          0\n",
            "Administration     0\n",
            "Marketing Spend    0\n",
            "State              0\n",
            "Profit             0\n",
            "dtype: int64\n",
            "\n",
            "Basic statistics:\n",
            "           R&D Spend  Administration  Marketing Spend         Profit\n",
            "count      50.000000       50.000000        50.000000      50.000000\n",
            "mean    73721.615600   121344.639600    211025.097800  112012.639200\n",
            "std     45902.256482    28017.802755    122290.310726   40306.180338\n",
            "min         0.000000    51283.140000         0.000000   14681.400000\n",
            "25%     39936.370000   103730.875000    129300.132500   90138.902500\n",
            "50%     73051.080000   122699.795000    212716.240000  107978.190000\n",
            "75%    101602.800000   144842.180000    299469.085000  139765.977500\n",
            "max    165349.200000   182645.560000    471784.100000  192261.830000\n"
          ]
        }
      ]
    },
    {
      "cell_type": "code",
      "source": [
        "4.\n",
        "def select_features(data):\n",
        "    \"\"\"Fjerner irrelevante attributter (her: State).\"\"\"\n",
        "    if 'State' in data.columns:\n",
        "        data = data.drop('State', axis=1)\n",
        "    return data\n",
        "\n",
        "df = select_features(df)\n",
        "df.head()\n"
      ],
      "metadata": {
        "id": "OZGYi-GADExv",
        "outputId": "d961619d-36df-4c1d-9dab-db1454437b4c",
        "colab": {
          "base_uri": "https://localhost:8080/",
          "height": 206
        }
      },
      "execution_count": 40,
      "outputs": [
        {
          "output_type": "execute_result",
          "data": {
            "text/plain": [
              "   R&D Spend  Administration  Marketing Spend     Profit\n",
              "0  165349.20       136897.80        471784.10  192261.83\n",
              "1  162597.70       151377.59        443898.53  191792.06\n",
              "2  153441.51       101145.55        407934.54  191050.39\n",
              "3  144372.41       118671.85        383199.62  182901.99\n",
              "4  142107.34        91391.77        366168.42  166187.94"
            ],
            "text/html": [
              "\n",
              "  <div id=\"df-796e245e-adba-4e74-9bdc-6b3abdacfbff\" class=\"colab-df-container\">\n",
              "    <div>\n",
              "<style scoped>\n",
              "    .dataframe tbody tr th:only-of-type {\n",
              "        vertical-align: middle;\n",
              "    }\n",
              "\n",
              "    .dataframe tbody tr th {\n",
              "        vertical-align: top;\n",
              "    }\n",
              "\n",
              "    .dataframe thead th {\n",
              "        text-align: right;\n",
              "    }\n",
              "</style>\n",
              "<table border=\"1\" class=\"dataframe\">\n",
              "  <thead>\n",
              "    <tr style=\"text-align: right;\">\n",
              "      <th></th>\n",
              "      <th>R&amp;D Spend</th>\n",
              "      <th>Administration</th>\n",
              "      <th>Marketing Spend</th>\n",
              "      <th>Profit</th>\n",
              "    </tr>\n",
              "  </thead>\n",
              "  <tbody>\n",
              "    <tr>\n",
              "      <th>0</th>\n",
              "      <td>165349.20</td>\n",
              "      <td>136897.80</td>\n",
              "      <td>471784.10</td>\n",
              "      <td>192261.83</td>\n",
              "    </tr>\n",
              "    <tr>\n",
              "      <th>1</th>\n",
              "      <td>162597.70</td>\n",
              "      <td>151377.59</td>\n",
              "      <td>443898.53</td>\n",
              "      <td>191792.06</td>\n",
              "    </tr>\n",
              "    <tr>\n",
              "      <th>2</th>\n",
              "      <td>153441.51</td>\n",
              "      <td>101145.55</td>\n",
              "      <td>407934.54</td>\n",
              "      <td>191050.39</td>\n",
              "    </tr>\n",
              "    <tr>\n",
              "      <th>3</th>\n",
              "      <td>144372.41</td>\n",
              "      <td>118671.85</td>\n",
              "      <td>383199.62</td>\n",
              "      <td>182901.99</td>\n",
              "    </tr>\n",
              "    <tr>\n",
              "      <th>4</th>\n",
              "      <td>142107.34</td>\n",
              "      <td>91391.77</td>\n",
              "      <td>366168.42</td>\n",
              "      <td>166187.94</td>\n",
              "    </tr>\n",
              "  </tbody>\n",
              "</table>\n",
              "</div>\n",
              "    <div class=\"colab-df-buttons\">\n",
              "\n",
              "  <div class=\"colab-df-container\">\n",
              "    <button class=\"colab-df-convert\" onclick=\"convertToInteractive('df-796e245e-adba-4e74-9bdc-6b3abdacfbff')\"\n",
              "            title=\"Convert this dataframe to an interactive table.\"\n",
              "            style=\"display:none;\">\n",
              "\n",
              "  <svg xmlns=\"http://www.w3.org/2000/svg\" height=\"24px\" viewBox=\"0 -960 960 960\">\n",
              "    <path d=\"M120-120v-720h720v720H120Zm60-500h600v-160H180v160Zm220 220h160v-160H400v160Zm0 220h160v-160H400v160ZM180-400h160v-160H180v160Zm440 0h160v-160H620v160ZM180-180h160v-160H180v160Zm440 0h160v-160H620v160Z\"/>\n",
              "  </svg>\n",
              "    </button>\n",
              "\n",
              "  <style>\n",
              "    .colab-df-container {\n",
              "      display:flex;\n",
              "      gap: 12px;\n",
              "    }\n",
              "\n",
              "    .colab-df-convert {\n",
              "      background-color: #E8F0FE;\n",
              "      border: none;\n",
              "      border-radius: 50%;\n",
              "      cursor: pointer;\n",
              "      display: none;\n",
              "      fill: #1967D2;\n",
              "      height: 32px;\n",
              "      padding: 0 0 0 0;\n",
              "      width: 32px;\n",
              "    }\n",
              "\n",
              "    .colab-df-convert:hover {\n",
              "      background-color: #E2EBFA;\n",
              "      box-shadow: 0px 1px 2px rgba(60, 64, 67, 0.3), 0px 1px 3px 1px rgba(60, 64, 67, 0.15);\n",
              "      fill: #174EA6;\n",
              "    }\n",
              "\n",
              "    .colab-df-buttons div {\n",
              "      margin-bottom: 4px;\n",
              "    }\n",
              "\n",
              "    [theme=dark] .colab-df-convert {\n",
              "      background-color: #3B4455;\n",
              "      fill: #D2E3FC;\n",
              "    }\n",
              "\n",
              "    [theme=dark] .colab-df-convert:hover {\n",
              "      background-color: #434B5C;\n",
              "      box-shadow: 0px 1px 3px 1px rgba(0, 0, 0, 0.15);\n",
              "      filter: drop-shadow(0px 1px 2px rgba(0, 0, 0, 0.3));\n",
              "      fill: #FFFFFF;\n",
              "    }\n",
              "  </style>\n",
              "\n",
              "    <script>\n",
              "      const buttonEl =\n",
              "        document.querySelector('#df-796e245e-adba-4e74-9bdc-6b3abdacfbff button.colab-df-convert');\n",
              "      buttonEl.style.display =\n",
              "        google.colab.kernel.accessAllowed ? 'block' : 'none';\n",
              "\n",
              "      async function convertToInteractive(key) {\n",
              "        const element = document.querySelector('#df-796e245e-adba-4e74-9bdc-6b3abdacfbff');\n",
              "        const dataTable =\n",
              "          await google.colab.kernel.invokeFunction('convertToInteractive',\n",
              "                                                    [key], {});\n",
              "        if (!dataTable) return;\n",
              "\n",
              "        const docLinkHtml = 'Like what you see? Visit the ' +\n",
              "          '<a target=\"_blank\" href=https://colab.research.google.com/notebooks/data_table.ipynb>data table notebook</a>'\n",
              "          + ' to learn more about interactive tables.';\n",
              "        element.innerHTML = '';\n",
              "        dataTable['output_type'] = 'display_data';\n",
              "        await google.colab.output.renderOutput(dataTable, element);\n",
              "        const docLink = document.createElement('div');\n",
              "        docLink.innerHTML = docLinkHtml;\n",
              "        element.appendChild(docLink);\n",
              "      }\n",
              "    </script>\n",
              "  </div>\n",
              "\n",
              "\n",
              "    <div id=\"df-f416100e-0fc7-49ed-9246-f8f50d006526\">\n",
              "      <button class=\"colab-df-quickchart\" onclick=\"quickchart('df-f416100e-0fc7-49ed-9246-f8f50d006526')\"\n",
              "                title=\"Suggest charts\"\n",
              "                style=\"display:none;\">\n",
              "\n",
              "<svg xmlns=\"http://www.w3.org/2000/svg\" height=\"24px\"viewBox=\"0 0 24 24\"\n",
              "     width=\"24px\">\n",
              "    <g>\n",
              "        <path d=\"M19 3H5c-1.1 0-2 .9-2 2v14c0 1.1.9 2 2 2h14c1.1 0 2-.9 2-2V5c0-1.1-.9-2-2-2zM9 17H7v-7h2v7zm4 0h-2V7h2v10zm4 0h-2v-4h2v4z\"/>\n",
              "    </g>\n",
              "</svg>\n",
              "      </button>\n",
              "\n",
              "<style>\n",
              "  .colab-df-quickchart {\n",
              "      --bg-color: #E8F0FE;\n",
              "      --fill-color: #1967D2;\n",
              "      --hover-bg-color: #E2EBFA;\n",
              "      --hover-fill-color: #174EA6;\n",
              "      --disabled-fill-color: #AAA;\n",
              "      --disabled-bg-color: #DDD;\n",
              "  }\n",
              "\n",
              "  [theme=dark] .colab-df-quickchart {\n",
              "      --bg-color: #3B4455;\n",
              "      --fill-color: #D2E3FC;\n",
              "      --hover-bg-color: #434B5C;\n",
              "      --hover-fill-color: #FFFFFF;\n",
              "      --disabled-bg-color: #3B4455;\n",
              "      --disabled-fill-color: #666;\n",
              "  }\n",
              "\n",
              "  .colab-df-quickchart {\n",
              "    background-color: var(--bg-color);\n",
              "    border: none;\n",
              "    border-radius: 50%;\n",
              "    cursor: pointer;\n",
              "    display: none;\n",
              "    fill: var(--fill-color);\n",
              "    height: 32px;\n",
              "    padding: 0;\n",
              "    width: 32px;\n",
              "  }\n",
              "\n",
              "  .colab-df-quickchart:hover {\n",
              "    background-color: var(--hover-bg-color);\n",
              "    box-shadow: 0 1px 2px rgba(60, 64, 67, 0.3), 0 1px 3px 1px rgba(60, 64, 67, 0.15);\n",
              "    fill: var(--button-hover-fill-color);\n",
              "  }\n",
              "\n",
              "  .colab-df-quickchart-complete:disabled,\n",
              "  .colab-df-quickchart-complete:disabled:hover {\n",
              "    background-color: var(--disabled-bg-color);\n",
              "    fill: var(--disabled-fill-color);\n",
              "    box-shadow: none;\n",
              "  }\n",
              "\n",
              "  .colab-df-spinner {\n",
              "    border: 2px solid var(--fill-color);\n",
              "    border-color: transparent;\n",
              "    border-bottom-color: var(--fill-color);\n",
              "    animation:\n",
              "      spin 1s steps(1) infinite;\n",
              "  }\n",
              "\n",
              "  @keyframes spin {\n",
              "    0% {\n",
              "      border-color: transparent;\n",
              "      border-bottom-color: var(--fill-color);\n",
              "      border-left-color: var(--fill-color);\n",
              "    }\n",
              "    20% {\n",
              "      border-color: transparent;\n",
              "      border-left-color: var(--fill-color);\n",
              "      border-top-color: var(--fill-color);\n",
              "    }\n",
              "    30% {\n",
              "      border-color: transparent;\n",
              "      border-left-color: var(--fill-color);\n",
              "      border-top-color: var(--fill-color);\n",
              "      border-right-color: var(--fill-color);\n",
              "    }\n",
              "    40% {\n",
              "      border-color: transparent;\n",
              "      border-right-color: var(--fill-color);\n",
              "      border-top-color: var(--fill-color);\n",
              "    }\n",
              "    60% {\n",
              "      border-color: transparent;\n",
              "      border-right-color: var(--fill-color);\n",
              "    }\n",
              "    80% {\n",
              "      border-color: transparent;\n",
              "      border-right-color: var(--fill-color);\n",
              "      border-bottom-color: var(--fill-color);\n",
              "    }\n",
              "    90% {\n",
              "      border-color: transparent;\n",
              "      border-bottom-color: var(--fill-color);\n",
              "    }\n",
              "  }\n",
              "</style>\n",
              "\n",
              "      <script>\n",
              "        async function quickchart(key) {\n",
              "          const quickchartButtonEl =\n",
              "            document.querySelector('#' + key + ' button');\n",
              "          quickchartButtonEl.disabled = true;  // To prevent multiple clicks.\n",
              "          quickchartButtonEl.classList.add('colab-df-spinner');\n",
              "          try {\n",
              "            const charts = await google.colab.kernel.invokeFunction(\n",
              "                'suggestCharts', [key], {});\n",
              "          } catch (error) {\n",
              "            console.error('Error during call to suggestCharts:', error);\n",
              "          }\n",
              "          quickchartButtonEl.classList.remove('colab-df-spinner');\n",
              "          quickchartButtonEl.classList.add('colab-df-quickchart-complete');\n",
              "        }\n",
              "        (() => {\n",
              "          let quickchartButtonEl =\n",
              "            document.querySelector('#df-f416100e-0fc7-49ed-9246-f8f50d006526 button');\n",
              "          quickchartButtonEl.style.display =\n",
              "            google.colab.kernel.accessAllowed ? 'block' : 'none';\n",
              "        })();\n",
              "      </script>\n",
              "    </div>\n",
              "\n",
              "    </div>\n",
              "  </div>\n"
            ],
            "application/vnd.google.colaboratory.intrinsic+json": {
              "type": "dataframe",
              "variable_name": "df",
              "summary": "{\n  \"name\": \"df\",\n  \"rows\": 50,\n  \"fields\": [\n    {\n      \"column\": \"R&D Spend\",\n      \"properties\": {\n        \"dtype\": \"number\",\n        \"std\": 45902.25648230753,\n        \"min\": 0.0,\n        \"max\": 165349.2,\n        \"num_unique_values\": 49,\n        \"samples\": [\n          91992.39,\n          1000.23,\n          0.0\n        ],\n        \"semantic_type\": \"\",\n        \"description\": \"\"\n      }\n    },\n    {\n      \"column\": \"Administration\",\n      \"properties\": {\n        \"dtype\": \"number\",\n        \"std\": 28017.802755488683,\n        \"min\": 51283.14,\n        \"max\": 182645.56,\n        \"num_unique_values\": 50,\n        \"samples\": [\n          135495.07,\n          82982.09,\n          115641.28\n        ],\n        \"semantic_type\": \"\",\n        \"description\": \"\"\n      }\n    },\n    {\n      \"column\": \"Marketing Spend\",\n      \"properties\": {\n        \"dtype\": \"number\",\n        \"std\": 122290.31072584528,\n        \"min\": 0.0,\n        \"max\": 471784.1,\n        \"num_unique_values\": 48,\n        \"samples\": [\n          353183.81,\n          172795.67,\n          134050.07\n        ],\n        \"semantic_type\": \"\",\n        \"description\": \"\"\n      }\n    },\n    {\n      \"column\": \"Profit\",\n      \"properties\": {\n        \"dtype\": \"number\",\n        \"std\": 40306.18033765055,\n        \"min\": 14681.4,\n        \"max\": 192261.83,\n        \"num_unique_values\": 50,\n        \"samples\": [\n          134307.35,\n          81005.76,\n          99937.59\n        ],\n        \"semantic_type\": \"\",\n        \"description\": \"\"\n      }\n    }\n  ]\n}"
            }
          },
          "metadata": {},
          "execution_count": 40
        }
      ]
    },
    {
      "cell_type": "code",
      "source": [
        "\n",
        "def feature_engineering(data):\n",
        "    \"\"\"Eksempel på at tilføje en ny feature — ikke påkrævet.\"\"\"\n",
        "    data[\"Total_Spend\"] = data[\"R&D Spend\"] + data[\"Marketing Spend\"]\n",
        "    return data\n",
        "\n",
        "# (valgfrit at køre)\n",
        "# df = feature_engineering(df)\n"
      ],
      "metadata": {
        "id": "GIKI0JPODWUk"
      },
      "execution_count": 42,
      "outputs": []
    },
    {
      "cell_type": "code",
      "source": [
        "def encode_categorical(data):\n",
        "    \"\"\"Eksempel på hvordan man ville håndtere kategoriske features.\"\"\"\n",
        "    if \"State\" in data.columns:\n",
        "        encoder = OneHotEncoder()\n",
        "        state_encoded = encoder.fit_transform(data[[\"State\"]])\n",
        "        encoded_df = pd.DataFrame(\n",
        "            state_encoded.toarray(),\n",
        "            columns=encoder.get_feature_names_out([\"State\"])\n",
        "        )\n",
        "        data = pd.concat([data.drop(\"State\", axis=1), encoded_df], axis=1)\n",
        "    return data\n"
      ],
      "metadata": {
        "id": "FrOJeKiCDtkK"
      },
      "execution_count": 44,
      "outputs": []
    },
    {
      "cell_type": "code",
      "source": [
        "def build_pipeline():\n",
        "    \"\"\"Laver en pipeline med feature scaling og linear regression.\"\"\"\n",
        "    pipeline = make_pipeline(\n",
        "        StandardScaler(),\n",
        "        LinearRegression()\n",
        "    )\n",
        "    return pipeline\n",
        "\n",
        "# Split data i X og y\n",
        "X = df.drop(\"Profit\", axis=1)\n",
        "y = df[\"Profit\"]\n",
        "\n",
        "# Split i træning/test\n",
        "X_train, X_test, y_train, y_test = train_test_split(X, y, test_size=0.2, random_state=42)\n",
        "\n",
        "# Lav pipeline\n",
        "model = build_pipeline()\n",
        "\n",
        "# Træn model\n",
        "model.fit(X_train, y_train)\n",
        "\n",
        "# Evaluer model\n",
        "r2_score = model.score(X_test, y_test)\n",
        "print(f\"Model performance (R²): {r2_score:.3f}\")\n"
      ],
      "metadata": {
        "id": "nMMXngulD1An",
        "outputId": "3d6dc63b-d569-4599-9728-3f3ddfa040ed",
        "colab": {
          "base_uri": "https://localhost:8080/"
        }
      },
      "execution_count": 45,
      "outputs": [
        {
          "output_type": "stream",
          "name": "stdout",
          "text": [
            "Model performance (R²): 0.900\n"
          ]
        }
      ]
    },
    {
      "cell_type": "markdown",
      "source": [
        "### Step 4 Summary\n",
        "- Data renset og klargjort uden ændringer i værdier\n",
        "- “State” droppet (ikke signifikant for profit)\n",
        "- Pipeline oprettet med StandardScaler + LinearRegression\n",
        "- Modellen klar til træning i næste trin\n"
      ],
      "metadata": {
        "id": "WrYdB9pAEFtP"
      }
    },
    {
      "cell_type": "markdown",
      "source": [
        "#Step 5. Select and train a model"
      ],
      "metadata": {
        "id": "siQJLCZpKhO1"
      }
    },
    {
      "cell_type": "markdown",
      "source": [
        "**Notes:**\n",
        "*   If the data is huge, you may want to sample smaller training sets so you can train many\n",
        "different models in a reasonable time (be aware that this penalizes complex models such as\n",
        "large neural nets or Random Forests).\n",
        "*   Once again, try to automate these steps as much as possible\n",
        "\n",
        "\n"
      ],
      "metadata": {
        "id": "ijejRxkoYZzV"
      }
    },
    {
      "cell_type": "markdown",
      "source": [
        "**Questions & Tasks**\n",
        "1. Train many quick-and-dirty models from different categories (e.g., linear, naive Bayes, SVM, Random Forest, neural net, etc.) using standard default parameters\n",
        "Action: In this project only try the LinearRegression algorithm using standard parameters.\n",
        "Code is to be established in your notebook as done for linear regression in section ‘Training and Evaluating on the Training Set’ in the notebook for chapter 2.\n",
        "2. Measure and compare the performance.\n",
        "For each model, compute the mean and the root mean square of the performance measure on\n",
        "a manually selected subset (5-10 data) of the training data.\n",
        "Action: Only do for our linear regression model. Code is to be established in your notebook.\n",
        "Find your stuff in section ‘Training and Evaluating on the Training Set’ in the notebook for\n",
        "chapter 2.\n",
        "3. Analyze the most significant variables for each algorithm.\n",
        "Action: Only do it for our linear regression model.\n",
        "Code is to be established in your notebook apply a similar evaluation as done in section\n",
        "‘Analyze the Best Models and Their Errors’ in the notebook for chapter 2.\n",
        "To be documented – e.g. in your notebook.\n",
        "4. Analyze the types of errors the model makes.\n",
        " What data would a human have used to avoid these errors?\n",
        "Action: Skip this if you do not observe any errors. Consider features to that may have been\n",
        "included in order to eliminate such errors.\n",
        "To be documented – e.g. in your notebook., if relevant.\n",
        "5. Perform a quick round of feature selection and engineering.\n",
        "Action: Consider which features to skip and which new feature to be defined/combined.\n",
        "To be documented – e.g. in your notebook. Code is to be established in your notebook\n",
        "accordingly by droping those features\n",
        "6. Consider another quick-and-dirty model from different categories (e.g., naive Bayes, SVM,\n",
        "Random Forest, neural net, etc.).\n",
        "Action: Considered N/A, just go on with the LinearRegression model. Nothing to be\n",
        "documented.\n",
        "7. Perform one or two more quick iterations of the five previous steps.\n",
        "Action: Condidered N/A, just go on with the LinearRegression model. Nothing to be\n",
        "documented.\n",
        "8. Shortlist the top one to two most promising models, preferring models that make different\n",
        "types of errors.\n",
        "Action: Considered N/A, just go on with the LinearRegression model. Nothing to be documented"
      ],
      "metadata": {
        "id": "8qD-HqDAcc1O"
      }
    },
    {
      "cell_type": "markdown",
      "source": [
        "#Step 6: Fine tune and test the model"
      ],
      "metadata": {
        "id": "7DGXA1ugh7wD"
      }
    },
    {
      "cell_type": "markdown",
      "source": [
        "**Notes:**\n",
        "*   You will want to use as much data as possible for this step, especially as you move toward the end of fine-tuning.\n",
        "*   As always, automate what you can\n"
      ],
      "metadata": {
        "id": "RU8uPObxfb1G"
      }
    },
    {
      "cell_type": "markdown",
      "source": [
        "**Questions & Tasks**\n",
        "1. Fine-tune the hyperparameters using cross-validation: Action: Try grid search on the LinearRegression algorithm. Indentify the relevant (hyper-)\n",
        "parameters and include in the search. Code is to be established in your notebook that is doing a grid search similar to what is done in section ‘Fine-Tune Your Model’ in notebook for chapter 2. Consider the following:\n",
        "*  Treat your data transformation choices as hyperparameters, especially when you are not sure about them (e.g., if you’re not sure whether to replace missing values with zeros or with the median value, or to just drop the rows).\n",
        "*  Unless there are very few hyperparameter values to explore, prefer random search over grid search. If training is very long, you may prefer a Bayesian optimization approach (e.g., using Gaussian process priors, as described by Jasper Snoek et al.).\n",
        "\n",
        "2. Try Ensemble methods. Combining your best models will often produce better performance than running them individually.\n",
        "Action: N/A as we are just applying a single model. Nothing to be documented.\n",
        "3. Once you are confident about your final model, measure its performance on the test set to estimate the generalization error. This is important!\n",
        "Action: Present your model with the set of model parameters that gives the best\n",
        "performance. Also present the set of hyper parameters that leads to this performance.Code is to be established in your notebook. To be documented – e.g. in your notebook."
      ],
      "metadata": {
        "id": "fK6Tke07fzNW"
      }
    },
    {
      "cell_type": "markdown",
      "source": [
        "**Questions & Tasks**\n",
        "1. If you have time, consider other models (SVM, Random Forest) and compare the\n",
        "performance.\n",
        "2. If you have time, consider “OneHotEncoder” for including the ‘State’ variable into yout\n",
        "model.\n"
      ],
      "metadata": {
        "id": "ydEkMEjEgq4V"
      }
    },
    {
      "cell_type": "markdown",
      "source": [
        "#Step 7. Report and presentation"
      ],
      "metadata": {
        "id": "-mdlVJwokwr1"
      }
    },
    {
      "cell_type": "markdown",
      "source": [
        "**Questions & Tasks**\n",
        "1. Document what you have done.Action: Already accomplished with the actions mentioned above. Nothing to be\n",
        "documented.\n",
        "2. Create a nice and short introduction\n",
        "Make sure you highlight the big picture first.\n",
        "Action: You may skip this, but so important if you present your model outside your Machine Learning task group.\n",
        "3. Explain why your solution achieves the business objective.\n",
        "Action: To be documented – e.g. in your notebook.\n",
        "4. Do not forget to present interesting points you noticed along the way.\n",
        "Action: To be documented – e.g. in your notebook., if any.\n",
        "*  Describe what worked and what did not.\n",
        "*  List your assumptions and your system’s limitations.\n",
        "5. Ensure your key findings are communicated through beautiful visualizations or easy-to\u0002remember statements (e.g., “the median income is the number-one predictor of housing\n",
        "prices”).\n",
        "Action: To be documented – e.g. in your notebook\n"
      ],
      "metadata": {
        "id": "W_c4jZ5whDkN"
      }
    }
  ]
}